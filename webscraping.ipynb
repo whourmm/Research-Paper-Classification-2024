{
 "cells": [
  {
   "cell_type": "code",
   "execution_count": 182,
   "metadata": {},
   "outputs": [],
   "source": [
    "import requests\n",
    "import re\n",
    "from bs4 import BeautifulSoup\n",
    "from selenium import webdriver\n",
    "import time\n",
    "import os\n",
    "from selenium.webdriver.common.by import By\n",
    "import validators\n",
    "import json"
   ]
  },
  {
   "cell_type": "code",
   "execution_count": 183,
   "metadata": {},
   "outputs": [],
   "source": [
    "browser = webdriver.Chrome()"
   ]
  },
  {
   "cell_type": "code",
   "execution_count": 184,
   "metadata": {},
   "outputs": [],
   "source": [
    "url = 'https://scholar.google.com/'\n",
    "browser.get(url=url)"
   ]
  },
  {
   "cell_type": "code",
   "execution_count": 185,
   "metadata": {},
   "outputs": [
    {
     "ename": "NoSuchWindowException",
     "evalue": "Message: no such window: target window already closed\nfrom unknown error: web view not found\n  (Session info: chrome=130.0.6723.117)\nStacktrace:\n\tGetHandleVerifier [0x00007FF714A438A5+3004357]\n\t(No symbol) [0x00007FF7146D9970]\n\t(No symbol) [0x00007FF71458582A]\n\t(No symbol) [0x00007FF71455FA75]\n\t(No symbol) [0x00007FF714602C77]\n\t(No symbol) [0x00007FF71461B351]\n\t(No symbol) [0x00007FF7145FB983]\n\t(No symbol) [0x00007FF7145C7628]\n\t(No symbol) [0x00007FF7145C8791]\n\tGetHandleVerifier [0x00007FF714A6A00D+3161901]\n\tGetHandleVerifier [0x00007FF714ABE060+3506048]\n\tGetHandleVerifier [0x00007FF714AB400D+3465005]\n\tGetHandleVerifier [0x00007FF714830EEB+830987]\n\t(No symbol) [0x00007FF7146E467F]\n\t(No symbol) [0x00007FF7146E09D4]\n\t(No symbol) [0x00007FF7146E0B6D]\n\t(No symbol) [0x00007FF7146D0149]\n\tBaseThreadInitThunk [0x00007FFFF1A5259D+29]\n\tRtlUserThreadStart [0x00007FFFF2D4AF38+40]\n",
     "output_type": "error",
     "traceback": [
      "\u001b[1;31m---------------------------------------------------------------------------\u001b[0m",
      "\u001b[1;31mNoSuchWindowException\u001b[0m                     Traceback (most recent call last)",
      "Cell \u001b[1;32mIn[185], line 1\u001b[0m\n\u001b[1;32m----> 1\u001b[0m html \u001b[38;5;241m=\u001b[39m \u001b[43mbrowser\u001b[49m\u001b[38;5;241;43m.\u001b[39;49m\u001b[43mexecute_script\u001b[49m\u001b[43m(\u001b[49m\u001b[38;5;124;43m\"\u001b[39;49m\u001b[38;5;124;43mreturn document.documentElement.outerHTML\u001b[39;49m\u001b[38;5;124;43m\"\u001b[39;49m\u001b[43m)\u001b[49m\n\u001b[0;32m      2\u001b[0m html[:\u001b[38;5;241m3000\u001b[39m]\n",
      "File \u001b[1;32mc:\\Users\\ASUS\\anaconda3\\envs\\dsde-cedt\\lib\\site-packages\\selenium\\webdriver\\remote\\webdriver.py:414\u001b[0m, in \u001b[0;36mWebDriver.execute_script\u001b[1;34m(self, script, *args)\u001b[0m\n\u001b[0;32m    411\u001b[0m converted_args \u001b[38;5;241m=\u001b[39m \u001b[38;5;28mlist\u001b[39m(args)\n\u001b[0;32m    412\u001b[0m command \u001b[38;5;241m=\u001b[39m Command\u001b[38;5;241m.\u001b[39mW3C_EXECUTE_SCRIPT\n\u001b[1;32m--> 414\u001b[0m \u001b[38;5;28;01mreturn\u001b[39;00m \u001b[38;5;28;43mself\u001b[39;49m\u001b[38;5;241;43m.\u001b[39;49m\u001b[43mexecute\u001b[49m\u001b[43m(\u001b[49m\u001b[43mcommand\u001b[49m\u001b[43m,\u001b[49m\u001b[43m \u001b[49m\u001b[43m{\u001b[49m\u001b[38;5;124;43m\"\u001b[39;49m\u001b[38;5;124;43mscript\u001b[39;49m\u001b[38;5;124;43m\"\u001b[39;49m\u001b[43m:\u001b[49m\u001b[43m \u001b[49m\u001b[43mscript\u001b[49m\u001b[43m,\u001b[49m\u001b[43m \u001b[49m\u001b[38;5;124;43m\"\u001b[39;49m\u001b[38;5;124;43margs\u001b[39;49m\u001b[38;5;124;43m\"\u001b[39;49m\u001b[43m:\u001b[49m\u001b[43m \u001b[49m\u001b[43mconverted_args\u001b[49m\u001b[43m}\u001b[49m\u001b[43m)\u001b[49m[\u001b[38;5;124m\"\u001b[39m\u001b[38;5;124mvalue\u001b[39m\u001b[38;5;124m\"\u001b[39m]\n",
      "File \u001b[1;32mc:\\Users\\ASUS\\anaconda3\\envs\\dsde-cedt\\lib\\site-packages\\selenium\\webdriver\\remote\\webdriver.py:354\u001b[0m, in \u001b[0;36mWebDriver.execute\u001b[1;34m(self, driver_command, params)\u001b[0m\n\u001b[0;32m    352\u001b[0m response \u001b[38;5;241m=\u001b[39m \u001b[38;5;28mself\u001b[39m\u001b[38;5;241m.\u001b[39mcommand_executor\u001b[38;5;241m.\u001b[39mexecute(driver_command, params)\n\u001b[0;32m    353\u001b[0m \u001b[38;5;28;01mif\u001b[39;00m response:\n\u001b[1;32m--> 354\u001b[0m     \u001b[38;5;28;43mself\u001b[39;49m\u001b[38;5;241;43m.\u001b[39;49m\u001b[43merror_handler\u001b[49m\u001b[38;5;241;43m.\u001b[39;49m\u001b[43mcheck_response\u001b[49m\u001b[43m(\u001b[49m\u001b[43mresponse\u001b[49m\u001b[43m)\u001b[49m\n\u001b[0;32m    355\u001b[0m     response[\u001b[38;5;124m\"\u001b[39m\u001b[38;5;124mvalue\u001b[39m\u001b[38;5;124m\"\u001b[39m] \u001b[38;5;241m=\u001b[39m \u001b[38;5;28mself\u001b[39m\u001b[38;5;241m.\u001b[39m_unwrap_value(response\u001b[38;5;241m.\u001b[39mget(\u001b[38;5;124m\"\u001b[39m\u001b[38;5;124mvalue\u001b[39m\u001b[38;5;124m\"\u001b[39m, \u001b[38;5;28;01mNone\u001b[39;00m))\n\u001b[0;32m    356\u001b[0m     \u001b[38;5;28;01mreturn\u001b[39;00m response\n",
      "File \u001b[1;32mc:\\Users\\ASUS\\anaconda3\\envs\\dsde-cedt\\lib\\site-packages\\selenium\\webdriver\\remote\\errorhandler.py:229\u001b[0m, in \u001b[0;36mErrorHandler.check_response\u001b[1;34m(self, response)\u001b[0m\n\u001b[0;32m    227\u001b[0m         alert_text \u001b[38;5;241m=\u001b[39m value[\u001b[38;5;124m\"\u001b[39m\u001b[38;5;124malert\u001b[39m\u001b[38;5;124m\"\u001b[39m]\u001b[38;5;241m.\u001b[39mget(\u001b[38;5;124m\"\u001b[39m\u001b[38;5;124mtext\u001b[39m\u001b[38;5;124m\"\u001b[39m)\n\u001b[0;32m    228\u001b[0m     \u001b[38;5;28;01mraise\u001b[39;00m exception_class(message, screen, stacktrace, alert_text)  \u001b[38;5;66;03m# type: ignore[call-arg]  # mypy is not smart enough here\u001b[39;00m\n\u001b[1;32m--> 229\u001b[0m \u001b[38;5;28;01mraise\u001b[39;00m exception_class(message, screen, stacktrace)\n",
      "\u001b[1;31mNoSuchWindowException\u001b[0m: Message: no such window: target window already closed\nfrom unknown error: web view not found\n  (Session info: chrome=130.0.6723.117)\nStacktrace:\n\tGetHandleVerifier [0x00007FF714A438A5+3004357]\n\t(No symbol) [0x00007FF7146D9970]\n\t(No symbol) [0x00007FF71458582A]\n\t(No symbol) [0x00007FF71455FA75]\n\t(No symbol) [0x00007FF714602C77]\n\t(No symbol) [0x00007FF71461B351]\n\t(No symbol) [0x00007FF7145FB983]\n\t(No symbol) [0x00007FF7145C7628]\n\t(No symbol) [0x00007FF7145C8791]\n\tGetHandleVerifier [0x00007FF714A6A00D+3161901]\n\tGetHandleVerifier [0x00007FF714ABE060+3506048]\n\tGetHandleVerifier [0x00007FF714AB400D+3465005]\n\tGetHandleVerifier [0x00007FF714830EEB+830987]\n\t(No symbol) [0x00007FF7146E467F]\n\t(No symbol) [0x00007FF7146E09D4]\n\t(No symbol) [0x00007FF7146E0B6D]\n\t(No symbol) [0x00007FF7146D0149]\n\tBaseThreadInitThunk [0x00007FFFF1A5259D+29]\n\tRtlUserThreadStart [0x00007FFFF2D4AF38+40]\n"
     ]
    }
   ],
   "source": [
    "html = browser.execute_script(\"return document.documentElement.outerHTML\")\n",
    "html[:3000]"
   ]
  },
  {
   "cell_type": "code",
   "execution_count": null,
   "metadata": {},
   "outputs": [],
   "source": [
    "q_element = browser.find_element(By.CSS_SELECTOR, 'input[name=q]')\n",
    "q_element.clear()\n",
    "q_element.send_keys('Thailand Paper')"
   ]
  },
  {
   "cell_type": "code",
   "execution_count": null,
   "metadata": {},
   "outputs": [],
   "source": [
    "q_element.send_keys(u'\\ue007')"
   ]
  },
  {
   "cell_type": "code",
   "execution_count": null,
   "metadata": {},
   "outputs": [],
   "source": [
    "all_element = browser.find_elements(By.CSS_SELECTOR, '.gs_ri')"
   ]
  },
  {
   "cell_type": "code",
   "execution_count": null,
   "metadata": {},
   "outputs": [
    {
     "ename": "StaleElementReferenceException",
     "evalue": "Message: stale element reference: stale element not found\n  (Session info: chrome=130.0.6723.117); For documentation on this error, please visit: https://www.selenium.dev/documentation/webdriver/troubleshooting/errors#stale-element-reference-exception\nStacktrace:\n\tGetHandleVerifier [0x00007FF714A438A5+3004357]\n\t(No symbol) [0x00007FF7146D9970]\n\t(No symbol) [0x00007FF71458582A]\n\t(No symbol) [0x00007FF714597D4B]\n\t(No symbol) [0x00007FF71458CF54]\n\t(No symbol) [0x00007FF71458AE49]\n\t(No symbol) [0x00007FF71458E637]\n\t(No symbol) [0x00007FF71458E6F0]\n\t(No symbol) [0x00007FF7145D563A]\n\t(No symbol) [0x00007FF7145D5E7C]\n\t(No symbol) [0x00007FF7145C93DC]\n\t(No symbol) [0x00007FF7145FBC1F]\n\t(No symbol) [0x00007FF7145C92A6]\n\t(No symbol) [0x00007FF7145FBDF0]\n\t(No symbol) [0x00007FF71461BA4C]\n\t(No symbol) [0x00007FF7145FB983]\n\t(No symbol) [0x00007FF7145C7628]\n\t(No symbol) [0x00007FF7145C8791]\n\tGetHandleVerifier [0x00007FF714A6A00D+3161901]\n\tGetHandleVerifier [0x00007FF714ABE060+3506048]\n\tGetHandleVerifier [0x00007FF714AB400D+3465005]\n\tGetHandleVerifier [0x00007FF714830EEB+830987]\n\t(No symbol) [0x00007FF7146E467F]\n\t(No symbol) [0x00007FF7146E09D4]\n\t(No symbol) [0x00007FF7146E0B6D]\n\t(No symbol) [0x00007FF7146D0149]\n\tBaseThreadInitThunk [0x00007FFFF1A5259D+29]\n\tRtlUserThreadStart [0x00007FFFF2D4AF38+40]\n",
     "output_type": "error",
     "traceback": [
      "\u001b[1;31m---------------------------------------------------------------------------\u001b[0m",
      "\u001b[1;31mStaleElementReferenceException\u001b[0m            Traceback (most recent call last)",
      "Cell \u001b[1;32mIn[181], line 5\u001b[0m\n\u001b[0;32m      3\u001b[0m \u001b[38;5;28;01mfor\u001b[39;00m element \u001b[38;5;129;01min\u001b[39;00m all_element:\n\u001b[0;32m      4\u001b[0m     website_dict \u001b[38;5;241m=\u001b[39m {}\n\u001b[1;32m----> 5\u001b[0m     a_tag \u001b[38;5;241m=\u001b[39m \u001b[43melement\u001b[49m\u001b[38;5;241;43m.\u001b[39;49m\u001b[43mfind_element\u001b[49m\u001b[43m(\u001b[49m\u001b[43mBy\u001b[49m\u001b[38;5;241;43m.\u001b[39;49m\u001b[43mTAG_NAME\u001b[49m\u001b[43m,\u001b[49m\u001b[43m \u001b[49m\u001b[38;5;124;43m'\u001b[39;49m\u001b[38;5;124;43ma\u001b[39;49m\u001b[38;5;124;43m'\u001b[39;49m\u001b[43m)\u001b[49m\n\u001b[0;32m      6\u001b[0m     website_dict[\u001b[38;5;124m\"\u001b[39m\u001b[38;5;124mtitle\u001b[39m\u001b[38;5;124m\"\u001b[39m] \u001b[38;5;241m=\u001b[39m a_tag\u001b[38;5;241m.\u001b[39mtext\n\u001b[0;32m      7\u001b[0m     \u001b[38;5;66;03m# print(a_tag.text)\u001b[39;00m\n",
      "File \u001b[1;32mc:\\Users\\ASUS\\anaconda3\\envs\\dsde-cedt\\lib\\site-packages\\selenium\\webdriver\\remote\\webelement.py:417\u001b[0m, in \u001b[0;36mWebElement.find_element\u001b[1;34m(self, by, value)\u001b[0m\n\u001b[0;32m    414\u001b[0m     by \u001b[38;5;241m=\u001b[39m By\u001b[38;5;241m.\u001b[39mCSS_SELECTOR\n\u001b[0;32m    415\u001b[0m     value \u001b[38;5;241m=\u001b[39m \u001b[38;5;124mf\u001b[39m\u001b[38;5;124m'\u001b[39m\u001b[38;5;124m[name=\u001b[39m\u001b[38;5;124m\"\u001b[39m\u001b[38;5;132;01m{\u001b[39;00mvalue\u001b[38;5;132;01m}\u001b[39;00m\u001b[38;5;124m\"\u001b[39m\u001b[38;5;124m]\u001b[39m\u001b[38;5;124m'\u001b[39m\n\u001b[1;32m--> 417\u001b[0m \u001b[38;5;28;01mreturn\u001b[39;00m \u001b[38;5;28;43mself\u001b[39;49m\u001b[38;5;241;43m.\u001b[39;49m\u001b[43m_execute\u001b[49m\u001b[43m(\u001b[49m\u001b[43mCommand\u001b[49m\u001b[38;5;241;43m.\u001b[39;49m\u001b[43mFIND_CHILD_ELEMENT\u001b[49m\u001b[43m,\u001b[49m\u001b[43m \u001b[49m\u001b[43m{\u001b[49m\u001b[38;5;124;43m\"\u001b[39;49m\u001b[38;5;124;43musing\u001b[39;49m\u001b[38;5;124;43m\"\u001b[39;49m\u001b[43m:\u001b[49m\u001b[43m \u001b[49m\u001b[43mby\u001b[49m\u001b[43m,\u001b[49m\u001b[43m \u001b[49m\u001b[38;5;124;43m\"\u001b[39;49m\u001b[38;5;124;43mvalue\u001b[39;49m\u001b[38;5;124;43m\"\u001b[39;49m\u001b[43m:\u001b[49m\u001b[43m \u001b[49m\u001b[43mvalue\u001b[49m\u001b[43m}\u001b[49m\u001b[43m)\u001b[49m[\u001b[38;5;124m\"\u001b[39m\u001b[38;5;124mvalue\u001b[39m\u001b[38;5;124m\"\u001b[39m]\n",
      "File \u001b[1;32mc:\\Users\\ASUS\\anaconda3\\envs\\dsde-cedt\\lib\\site-packages\\selenium\\webdriver\\remote\\webelement.py:395\u001b[0m, in \u001b[0;36mWebElement._execute\u001b[1;34m(self, command, params)\u001b[0m\n\u001b[0;32m    393\u001b[0m     params \u001b[38;5;241m=\u001b[39m {}\n\u001b[0;32m    394\u001b[0m params[\u001b[38;5;124m\"\u001b[39m\u001b[38;5;124mid\u001b[39m\u001b[38;5;124m\"\u001b[39m] \u001b[38;5;241m=\u001b[39m \u001b[38;5;28mself\u001b[39m\u001b[38;5;241m.\u001b[39m_id\n\u001b[1;32m--> 395\u001b[0m \u001b[38;5;28;01mreturn\u001b[39;00m \u001b[38;5;28;43mself\u001b[39;49m\u001b[38;5;241;43m.\u001b[39;49m\u001b[43m_parent\u001b[49m\u001b[38;5;241;43m.\u001b[39;49m\u001b[43mexecute\u001b[49m\u001b[43m(\u001b[49m\u001b[43mcommand\u001b[49m\u001b[43m,\u001b[49m\u001b[43m \u001b[49m\u001b[43mparams\u001b[49m\u001b[43m)\u001b[49m\n",
      "File \u001b[1;32mc:\\Users\\ASUS\\anaconda3\\envs\\dsde-cedt\\lib\\site-packages\\selenium\\webdriver\\remote\\webdriver.py:354\u001b[0m, in \u001b[0;36mWebDriver.execute\u001b[1;34m(self, driver_command, params)\u001b[0m\n\u001b[0;32m    352\u001b[0m response \u001b[38;5;241m=\u001b[39m \u001b[38;5;28mself\u001b[39m\u001b[38;5;241m.\u001b[39mcommand_executor\u001b[38;5;241m.\u001b[39mexecute(driver_command, params)\n\u001b[0;32m    353\u001b[0m \u001b[38;5;28;01mif\u001b[39;00m response:\n\u001b[1;32m--> 354\u001b[0m     \u001b[38;5;28;43mself\u001b[39;49m\u001b[38;5;241;43m.\u001b[39;49m\u001b[43merror_handler\u001b[49m\u001b[38;5;241;43m.\u001b[39;49m\u001b[43mcheck_response\u001b[49m\u001b[43m(\u001b[49m\u001b[43mresponse\u001b[49m\u001b[43m)\u001b[49m\n\u001b[0;32m    355\u001b[0m     response[\u001b[38;5;124m\"\u001b[39m\u001b[38;5;124mvalue\u001b[39m\u001b[38;5;124m\"\u001b[39m] \u001b[38;5;241m=\u001b[39m \u001b[38;5;28mself\u001b[39m\u001b[38;5;241m.\u001b[39m_unwrap_value(response\u001b[38;5;241m.\u001b[39mget(\u001b[38;5;124m\"\u001b[39m\u001b[38;5;124mvalue\u001b[39m\u001b[38;5;124m\"\u001b[39m, \u001b[38;5;28;01mNone\u001b[39;00m))\n\u001b[0;32m    356\u001b[0m     \u001b[38;5;28;01mreturn\u001b[39;00m response\n",
      "File \u001b[1;32mc:\\Users\\ASUS\\anaconda3\\envs\\dsde-cedt\\lib\\site-packages\\selenium\\webdriver\\remote\\errorhandler.py:229\u001b[0m, in \u001b[0;36mErrorHandler.check_response\u001b[1;34m(self, response)\u001b[0m\n\u001b[0;32m    227\u001b[0m         alert_text \u001b[38;5;241m=\u001b[39m value[\u001b[38;5;124m\"\u001b[39m\u001b[38;5;124malert\u001b[39m\u001b[38;5;124m\"\u001b[39m]\u001b[38;5;241m.\u001b[39mget(\u001b[38;5;124m\"\u001b[39m\u001b[38;5;124mtext\u001b[39m\u001b[38;5;124m\"\u001b[39m)\n\u001b[0;32m    228\u001b[0m     \u001b[38;5;28;01mraise\u001b[39;00m exception_class(message, screen, stacktrace, alert_text)  \u001b[38;5;66;03m# type: ignore[call-arg]  # mypy is not smart enough here\u001b[39;00m\n\u001b[1;32m--> 229\u001b[0m \u001b[38;5;28;01mraise\u001b[39;00m exception_class(message, screen, stacktrace)\n",
      "\u001b[1;31mStaleElementReferenceException\u001b[0m: Message: stale element reference: stale element not found\n  (Session info: chrome=130.0.6723.117); For documentation on this error, please visit: https://www.selenium.dev/documentation/webdriver/troubleshooting/errors#stale-element-reference-exception\nStacktrace:\n\tGetHandleVerifier [0x00007FF714A438A5+3004357]\n\t(No symbol) [0x00007FF7146D9970]\n\t(No symbol) [0x00007FF71458582A]\n\t(No symbol) [0x00007FF714597D4B]\n\t(No symbol) [0x00007FF71458CF54]\n\t(No symbol) [0x00007FF71458AE49]\n\t(No symbol) [0x00007FF71458E637]\n\t(No symbol) [0x00007FF71458E6F0]\n\t(No symbol) [0x00007FF7145D563A]\n\t(No symbol) [0x00007FF7145D5E7C]\n\t(No symbol) [0x00007FF7145C93DC]\n\t(No symbol) [0x00007FF7145FBC1F]\n\t(No symbol) [0x00007FF7145C92A6]\n\t(No symbol) [0x00007FF7145FBDF0]\n\t(No symbol) [0x00007FF71461BA4C]\n\t(No symbol) [0x00007FF7145FB983]\n\t(No symbol) [0x00007FF7145C7628]\n\t(No symbol) [0x00007FF7145C8791]\n\tGetHandleVerifier [0x00007FF714A6A00D+3161901]\n\tGetHandleVerifier [0x00007FF714ABE060+3506048]\n\tGetHandleVerifier [0x00007FF714AB400D+3465005]\n\tGetHandleVerifier [0x00007FF714830EEB+830987]\n\t(No symbol) [0x00007FF7146E467F]\n\t(No symbol) [0x00007FF7146E09D4]\n\t(No symbol) [0x00007FF7146E0B6D]\n\t(No symbol) [0x00007FF7146D0149]\n\tBaseThreadInitThunk [0x00007FFFF1A5259D+29]\n\tRtlUserThreadStart [0x00007FFFF2D4AF38+40]\n"
     ]
    }
   ],
   "source": [
    "websites_dict = {}\n",
    "i = 0\n",
    "for element in all_element:\n",
    "    website_dict = {}\n",
    "    a_tag = element.find_element(By.TAG_NAME, 'a')\n",
    "    website_dict[\"title\"] = a_tag.text\n",
    "    # print(a_tag.text)\n",
    "    website_dict[\"related_link\"] = a_tag.get_attribute('href')\n",
    "    a_tag.click()\n",
    "    # if(browser.current_url == \"https://scholar.google.com/\"):\n",
    "    #     q_element = browser.find_element(By.CSS_SELECTOR, 'input[name=q]')\n",
    "    #     q_element.clear()\n",
    "    #     q_element.send_keys('Thailand Paper')\n",
    "    #     q_element.send_keys(u'\\ue007')\n",
    "    # else:\n",
    "    name = element.find_element(By.CSS_SELECTOR, '.gs_a')\n",
    "    website_dict[\"author\"] = name.text\n",
    "\n",
    "    browser.back()\n",
    "    time.sleep(2)\n",
    "    # print(a_tag.get_attribute('href'))\n",
    "    websites_dict[i] = website_dict\n",
    "    i+=1\n",
    "\n",
    "json_string = json.dumps(websites_dict, indent=4)\n",
    "print(json_string)\n",
    "   "
   ]
  },
  {
   "cell_type": "code",
   "execution_count": null,
   "metadata": {},
   "outputs": [
    {
     "name": "stdout",
     "output_type": "stream",
     "text": [
      "https://www.cambridge.org/core/journals/asian-journal-of-law-and-society/article/identity-paperworks-and-the-unmaking-of-legal-status-in-mae-sot-thailand/366478F845CCC628961770D7241FA13A\n",
      "javascript:void(0)\n",
      "javascript:void(0)\n",
      "https://scholar.google.com/scholar?cites=14817284729615782400&as_sdt=2005&sciodt=0,5&hl=th\n",
      "https://scholar.google.com/scholar?q=related:AJKRzPSRoc0J:scholar.google.com/&scioq=Thailand+Paper&hl=th&as_sdt=0,5\n",
      "https://scholar.google.com/scholar?cluster=14817284729615782400&hl=th&as_sdt=0,5\n",
      "javascript:void(0)\n",
      "javascript:void(0)\n",
      "https://www.emerald.com/insight/content/doi/10.1108/14502191011080836/full/html\n",
      "https://scholar.google.com/citations?user=OsvbnKAAAAAJ&hl=th&oi=sra\n",
      "javascript:void(0)\n",
      "javascript:void(0)\n",
      "https://scholar.google.com/scholar?cites=5318629049334492387&as_sdt=2005&sciodt=0,5&hl=th\n",
      "https://scholar.google.com/scholar?q=related:4-yn6fCQz0kJ:scholar.google.com/&scioq=Thailand+Paper&hl=th&as_sdt=0,5\n",
      "https://scholar.google.com/scholar?cluster=5318629049334492387&hl=th&as_sdt=0,5\n",
      "javascript:void(0)\n",
      "javascript:void(0)\n",
      "https://www.emerald.com/insight/content/doi/10.1108/09578231311311483/full/html\n",
      "javascript:void(0)\n",
      "javascript:void(0)\n",
      "https://scholar.google.com/scholar?cites=18129912705528952630&as_sdt=2005&sciodt=0,5&hl=th\n",
      "https://scholar.google.com/scholar?q=related:NvfknYxjmvsJ:scholar.google.com/&scioq=Thailand+Paper&hl=th&as_sdt=0,5\n",
      "https://scholar.google.com/scholar?cluster=18129912705528952630&hl=th&as_sdt=0,5\n",
      "javascript:void(0)\n",
      "javascript:void(0)\n",
      "https://www.sciencedirect.com/science/article/pii/S0305750X02000578\n",
      "https://scholar.google.com/citations?user=10hmE3gAAAAJ&hl=th&oi=sra\n",
      "https://scholar.google.com/citations?user=revgpIAAAAAJ&hl=th&oi=sra\n",
      "javascript:void(0)\n",
      "javascript:void(0)\n",
      "https://scholar.google.com/scholar?cites=10710230744006058508&as_sdt=2005&sciodt=0,5&hl=th\n",
      "https://scholar.google.com/scholar?q=related:DOLyzh1iopQJ:scholar.google.com/&scioq=Thailand+Paper&hl=th&as_sdt=0,5\n",
      "https://scholar.google.com/scholar?cluster=10710230744006058508&hl=th&as_sdt=0,5\n",
      "javascript:void(0)\n",
      "javascript:void(0)\n",
      "https://link.springer.com/article/10.1186/1472-6831-12-16\n",
      "https://scholar.google.com/citations?user=hhMID7QAAAAJ&hl=th&oi=sra\n",
      "javascript:void(0)\n",
      "javascript:void(0)\n",
      "https://scholar.google.com/scholar?cites=4977769308919968557&as_sdt=2005&sciodt=0,5&hl=th\n",
      "https://scholar.google.com/scholar?q=related:LTMEKNCWFEUJ:scholar.google.com/&scioq=Thailand+Paper&hl=th&as_sdt=0,5\n",
      "https://scholar.google.com/scholar?cluster=4977769308919968557&hl=th&as_sdt=0,5\n",
      "javascript:void(0)\n",
      "javascript:void(0)\n",
      "https://www.academia.edu/download/115421681/42793.pdf\n",
      "javascript:void(0)\n",
      "javascript:void(0)\n",
      "https://scholar.google.com/scholar?cites=12568080794377426924&as_sdt=2005&sciodt=0,5&hl=th\n",
      "https://scholar.google.com/scholar?q=related:7JdG2eTKaq4J:scholar.google.com/&scioq=Thailand+Paper&hl=th&as_sdt=0,5\n",
      "https://scholar.google.com/scholar?cluster=12568080794377426924&hl=th&as_sdt=0,5\n",
      "javascript:void(0)\n",
      "https://scholar.googleusercontent.com/scholar?q=cache:7JdG2eTKaq4J:scholar.google.com/+Thailand+Paper&hl=th&as_sdt=0,5\n",
      "javascript:void(0)\n",
      "https://www.econstor.eu/handle/10419/53449\n",
      "https://scholar.google.com/citations?user=YzRHQ3MAAAAJ&hl=th&oi=sra\n",
      "javascript:void(0)\n",
      "javascript:void(0)\n",
      "https://scholar.google.com/scholar?cites=16751356336273585037&as_sdt=2005&sciodt=0,5&hl=th\n",
      "https://scholar.google.com/scholar?q=related:jXOT2dXFeOgJ:scholar.google.com/&scioq=Thailand+Paper&hl=th&as_sdt=0,5\n",
      "https://scholar.google.com/scholar?cluster=16751356336273585037&hl=th&as_sdt=0,5\n",
      "javascript:void(0)\n",
      "https://scholar.googleusercontent.com/scholar?q=cache:jXOT2dXFeOgJ:scholar.google.com/+Thailand+Paper&hl=th&as_sdt=0,5\n",
      "javascript:void(0)\n",
      "https://www.emerald.com/insight/content/doi/10.1108/AEDS-07-2017-0072/full/html\n",
      "javascript:void(0)\n",
      "javascript:void(0)\n",
      "https://scholar.google.com/scholar?cites=9776880185542042999&as_sdt=2005&sciodt=0,5&hl=th\n",
      "https://scholar.google.com/scholar?q=related:d-XJhrp0rocJ:scholar.google.com/&scioq=Thailand+Paper&hl=th&as_sdt=0,5\n",
      "https://scholar.google.com/scholar?cluster=9776880185542042999&hl=th&as_sdt=0,5\n",
      "javascript:void(0)\n",
      "javascript:void(0)\n",
      "https://ngobiz.org/picture/File/Final%20%20Report%20on%20CSR%20Development%20in%20Thailand%20(Original%20Version).doc\n",
      "javascript:void(0)\n",
      "javascript:void(0)\n",
      "https://scholar.google.com/scholar?cites=12073017797104752665&as_sdt=2005&sciodt=0,5&hl=th\n",
      "https://scholar.google.com/scholar?q=related:Gdhli7j5i6cJ:scholar.google.com/&scioq=Thailand+Paper&hl=th&as_sdt=0,5\n",
      "https://scholar.google.com/scholar?cluster=12073017797104752665&hl=th&as_sdt=0,5\n",
      "javascript:void(0)\n",
      "https://scholar.googleusercontent.com/scholar?q=cache:Gdhli7j5i6cJ:scholar.google.com/+Thailand+Paper&hl=th&as_sdt=0,5\n",
      "javascript:void(0)\n",
      "https://www.sciencedirect.com/science/article/pii/S0048733302000744\n",
      "https://scholar.google.com/citations?user=LWbY-vMAAAAJ&hl=th&oi=sra\n",
      "javascript:void(0)\n",
      "javascript:void(0)\n",
      "https://scholar.google.com/scholar?cites=3785123349492027598&as_sdt=2005&sciodt=0,5&hl=th\n",
      "https://scholar.google.com/scholar?q=related:zlCCxaF1hzQJ:scholar.google.com/&scioq=Thailand+Paper&hl=th&as_sdt=0,5\n",
      "https://scholar.google.com/scholar?cluster=3785123349492027598&hl=th&as_sdt=0,5\n",
      "javascript:void(0)\n",
      "javascript:void(0)\n"
     ]
    }
   ],
   "source": [
    "all_links = browser.find_elements(By.CSS_SELECTOR, '.gs_ri a')\n",
    "\n",
    "# Iterate through the links by index to avoid stale references\n",
    "for i in range(len(all_links)):\n",
    "    # Re-locate the links after navigation to ensure they are fresh\n",
    "    all_links = browser.find_elements(By.CSS_SELECTOR, '.gs_ri a')\n",
    "\n",
    "    # Click the current link\n",
    "    all_links[i].click()\n",
    "\n",
    "    # Perform actions on the new page\n",
    "    print(\"Current URL:\", browser.current_url)\n",
    "\n",
    "    # Navigate back to the previous page\n",
    "    browser.back()\n",
    "\n",
    "    if(browser.current_url == \"https://scholar.google.com/\"):\n",
    "        q_element = browser.find_element(By.CSS_SELECTOR, 'input[name=q]')\n",
    "        q_element.clear()\n",
    "        q_element.send_keys('Thailand Paper')\n",
    "        q_element.send_keys(u'\\ue007')\n",
    "\n",
    "    # Optional: Wait for the page to reload fully\n",
    "    time.sleep(5)"
   ]
  },
  {
   "cell_type": "code",
   "execution_count": null,
   "metadata": {},
   "outputs": [],
   "source": []
  }
 ],
 "metadata": {
  "kernelspec": {
   "display_name": "dsde-cedt",
   "language": "python",
   "name": "python3"
  },
  "language_info": {
   "codemirror_mode": {
    "name": "ipython",
    "version": 3
   },
   "file_extension": ".py",
   "mimetype": "text/x-python",
   "name": "python",
   "nbconvert_exporter": "python",
   "pygments_lexer": "ipython3",
   "version": "3.8.20"
  }
 },
 "nbformat": 4,
 "nbformat_minor": 2
}
