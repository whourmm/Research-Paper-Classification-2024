{
 "cells": [
  {
   "cell_type": "code",
   "execution_count": 99,
   "metadata": {},
   "outputs": [],
   "source": [
    "import requests\n",
    "import re\n",
    "from bs4 import BeautifulSoup\n",
    "from selenium import webdriver\n",
    "import time\n",
    "import os\n",
    "from selenium.webdriver.common.by import By\n",
    "import validators\n",
    "import json"
   ]
  },
  {
   "cell_type": "code",
   "execution_count": 100,
   "metadata": {},
   "outputs": [],
   "source": [
    "browser = webdriver.Chrome()"
   ]
  },
  {
   "cell_type": "code",
   "execution_count": 101,
   "metadata": {},
   "outputs": [],
   "source": [
    "url = 'https://scholar.google.com/scholar?hl=th&as_sdt=0%2C5&q=Thailand+Paper&btnG='\n",
    "browser.get(url=url)"
   ]
  },
  {
   "cell_type": "code",
   "execution_count": 102,
   "metadata": {},
   "outputs": [
    {
     "data": {
      "text/plain": [
       "'<html class=\"gs_el_sm\"><head><title>Thailand Paper - Google Scholar</title><meta http-equiv=\"Content-Type\" content=\"text/html;charset=UTF-8\"><meta http-equiv=\"X-UA-Compatible\" content=\"IE=Edge\"><meta name=\"referrer\" content=\"origin-when-cross-origin\"><meta name=\"viewport\" content=\"width=device-width,initial-scale=1,minimum-scale=1,maximum-scale=2\"><meta name=\"format-detection\" content=\"telephone=no\"><link rel=\"shortcut icon\" href=\"/favicon.ico\"><style>html,body,form,table,div,h1,h2,h3,h4,h5,h6,img,ol,ul,li,button{margin:0;padding:0;border:0;}table{border-collapse:collapse;border-width:0;empty-cells:show;}html,body{height:100%}#gs_top{position:relative;box-sizing:border-box;min-height:100%;min-width:964px;-webkit-tap-highlight-color:rgba(0,0,0,0);}#gs_top>*:not(#x){-webkit-tap-highlight-color:rgba(204,204,204,.5);}.gs_el_ph #gs_top,.gs_el_ta #gs_top{min-width:320px;}#gs_top.gs_nscl{position:fixed;width:100%;}body,td,input,button{font-size:13px;font-family:Arial,sans-serif;line-height:1.24;}body{background:#fff;color:#222;-webkit-text-size-adjust:100%;-moz-text-size-adjust:none;}.gs_gray{color:#777777}.gs_red{color:#dd4b39}.gs_grn{color:#006621}.gs_lil{font-size:11px}.gs_med{font-size:16px}.gs_hlt{font-weight:bold;}a:link{color:#1a0dab;text-decoration:none}a:visited{color:#660099;text-decoration:none}a:hover,a:hover .gs_lbl{text-decoration:underline}a:active,a:active .gs_lbl,a .gs_lbl:active{color:#d14836}.gs_el_tc a:hover,.gs_el_tc a:hover .gs_lbl{text-decoration:none}.gs_pfcs a:focus,.gs_pfcs button:focus,.gs_pfcs input:focus,.gs_pfcs label:focus{outline:none}.gs_a,.gs_a a:link,.gs_a a:visited{color:#006621}.gs_a a:active{color:#d14836}a.gs_fl:link,.gs_fl a:link{color:#1a0dab}a.gs_fl:visited,.gs_fl a:visited{color:#660099}a.gs_fl:active,.gs_fl a:active{color:#d14836}.gs_fl{color:#777777}.gs_ctc,.gs_ctu{vertical-align:middle;font-size:13px;font-weight:normal}.gs_ctc{color:#1a0dab}.gs_ctg,.gs_ctg2{font-size:13px;font-weight:bold}.gs_ctg{color:#1a0dab}a.gs_pda,.gs_pda a{padding:7px 0 5px 0}.gs_alrt{background:#f9edbe;border:1px solid #f0c36d;padding:0 16px;text-align:center;box-shadow:0 2px 4px rgba(0,0,0,.2);border-radius:2px;}.gs_alrt:empty{display:none;}.gs_spc{display:inline-block;width:12px}.gs_br{width:0;font-size:0}.gs_ibl{display:inline-block;}.gs_scl:after{content:\"\";display:table;clear:both;}.gs_ind{padding-left:8px;text-indent:-8px}.gs_ico,.gs_icm{display:inline-block;background:no-repeat url(/intl/th/scholar/images/1x/sprite_20161020.png);background-position:-23px -161px;background-size:169px;width:21px;height:21px;}@media(-webkit-min-device-pixel-ratio:1.5),(min-resolution:144dpi){.gs_ico,.gs_icm{background-image:url(/intl/th/scholar/images/2x/sprite_20161020.png);}}.gs_el_ta .gs_nta,.gs_ota,.gs_el_ph .gs_nph,.gs_oph{display:none}.gs_el_ta .gs_ota,.gs_el_ph .gs_oph{display:inline}.gs_el_ta div.gs_ota,.gs_el_ph div.gs_oph{display:block}.gs_sth_g{visibility:hidden;max-height:0;}.gs_sth_vis .gs_sth_g{max-height:1000px;}.gs_sth_vis .gs_sth_'"
      ]
     },
     "execution_count": 102,
     "metadata": {},
     "output_type": "execute_result"
    }
   ],
   "source": [
    "html = browser.execute_script(\"return document.documentElement.outerHTML\")\n",
    "html[:3000]"
   ]
  },
  {
   "cell_type": "code",
   "execution_count": 103,
   "metadata": {},
   "outputs": [],
   "source": [
    "all_element = browser.find_elements(By.CSS_SELECTOR, '.gs_ri')"
   ]
  },
  {
   "cell_type": "code",
   "execution_count": 104,
   "metadata": {},
   "outputs": [
    {
     "name": "stdout",
     "output_type": "stream",
     "text": [
      "{\n",
      "    \"0\": {\n",
      "        \"title\": \"Identity Paper/Work/s and the unmaking of legal status in Mae Sot, Thailand\",\n",
      "        \"author\": \"M Reddy - Asian Journal of Law and Society, 2015 - cambridge.org\",\n",
      "        \"related_link\": \"https://www.cambridge.org/core/journals/asian-journal-of-law-and-society/article/identity-paperworks-and-the-unmaking-of-legal-status-in-mae-sot-thailand/366478F845CCC628961770D7241FA13A\"\n",
      "    },\n",
      "    \"1\": {\n",
      "        \"title\": \"Barriers to the development of environmental management accounting: An exploratory study of pulp and paper companies in Thailand\",\n",
      "        \"author\": \"W Setthasakko - EuroMed Journal of Business, 2010 - emerald.com\",\n",
      "        \"related_link\": \"https://www.emerald.com/insight/content/doi/10.1108/14502191011080836/full/html\"\n",
      "    },\n",
      "    \"2\": {\n",
      "        \"title\": \"The evolution of educational reform in Thailand: The Thai educational paradox\",\n",
      "        \"author\": \"GW Fry, H Bi - Journal of educational administration, 2013 - emerald.com\",\n",
      "        \"related_link\": \"https://www.emerald.com/insight/content/doi/10.1108/09578231311311483/full/html\"\n",
      "    },\n",
      "    \"3\": {\n",
      "        \"title\": \"In the eyes of the state: Negotiating a \\u201crights-based approach\\u201d to forest conservation in Thailand\",\n",
      "        \"author\": \"C Johnson, T Forsyth - World development, 2002 - Elsevier\",\n",
      "        \"related_link\": \"https://www.sciencedirect.com/science/article/pii/S0305750X02000578\"\n",
      "    },\n",
      "    \"4\": {\n",
      "        \"title\": \"Dental fluorosis in populations from Chiang Mai, Thailand with different fluoride exposures\\u2013Paper 1: assessing fluorosis risk, predictors of fluorosis and the potential \\u2026\",\n",
      "        \"author\": \"MG McGrady, RP Ellwood, P Srisilapanan\\u2026 - BMC Oral Health, 2012 - Springer\",\n",
      "        \"related_link\": \"https://link.springer.com/article/10.1186/1472-6831-12-16\"\n",
      "    },\n",
      "    \"5\": {\n",
      "        \"title\": \"Overview of contract farming in Thailand: Lessons learned\",\n",
      "        \"author\": \"S Sriboonchitta, A Wiboonpoongse - 2008 - econstor.eu\",\n",
      "        \"related_link\": \"https://www.econstor.eu/handle/10419/53449\"\n",
      "    },\n",
      "    \"6\": {\n",
      "        \"title\": \"Rethinking Thai higher education for Thailand 4.0\",\n",
      "        \"author\": \"P Buasuwan - Asian Education and Development Studies, 2018 - emerald.com\",\n",
      "        \"related_link\": \"https://www.emerald.com/insight/content/doi/10.1108/AEDS-07-2017-0072/full/html\"\n",
      "    },\n",
      "    \"7\": {\n",
      "        \"title\": \"National innovation system in less successful developing countries: the case of Thailand\",\n",
      "        \"author\": \"P Intarakumnerd, P Chairatana, T Tangchitpiboon - Research policy, 2002 - Elsevier\",\n",
      "        \"related_link\": \"https://www.sciencedirect.com/science/article/pii/S0048733302000744\"\n",
      "    }\n",
      "}\n"
     ]
    }
   ],
   "source": [
    "websites_dict = {}\n",
    "fileType = [\"[DOC]\", \"[PDF]\"]\n",
    "i = 0\n",
    "\n",
    "for element in all_element:\n",
    "    website_dict = {}\n",
    "    a_tag = element.find_element(By.TAG_NAME, 'a')\n",
    "    name_tag = element.find_element(By.CSS_SELECTOR, '.gs_a')\n",
    "    website_dict[\"title\"] = a_tag.text\n",
    "    website_dict[\"author\"] = name_tag.text\n",
    "    # print(a_tag.text)\n",
    "    if element.find_element(By.TAG_NAME, 'span').text in fileType:\n",
    "        # print(\"SKIP\")\n",
    "        continue\n",
    "    website_dict[\"related_link\"] = a_tag.get_attribute('href')\n",
    "    a_tag.click()\n",
    "    # print(\"Now at: \", browser.current_url)\n",
    "    browser.back()\n",
    "    time.sleep(2)\n",
    "    # print(a_tag.get_attribute('href'))\n",
    "    websites_dict[i] = website_dict\n",
    "    i+=1\n",
    "\n",
    "json_string = json.dumps(websites_dict, indent=4)\n",
    "print(json_string)\n",
    "   "
   ]
  }
 ],
 "metadata": {
  "kernelspec": {
   "display_name": "dsde-cedt",
   "language": "python",
   "name": "python3"
  },
  "language_info": {
   "codemirror_mode": {
    "name": "ipython",
    "version": 3
   },
   "file_extension": ".py",
   "mimetype": "text/x-python",
   "name": "python",
   "nbconvert_exporter": "python",
   "pygments_lexer": "ipython3",
   "version": "3.8.20"
  }
 },
 "nbformat": 4,
 "nbformat_minor": 2
}
