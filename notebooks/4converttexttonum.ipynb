{
 "cells": [
  {
   "cell_type": "code",
   "execution_count": 2,
   "metadata": {},
   "outputs": [],
   "source": [
    "import pandas as pd\n",
    "from sklearn.feature_extraction.text import TfidfVectorizer"
   ]
  },
  {
   "cell_type": "code",
   "execution_count": null,
   "metadata": {},
   "outputs": [],
   "source": [
    "tfidf_vectorizer_titles = TfidfVectorizer(max_features=10000, min_df=1, max_df=0.8)\n",
    "\n",
    "df['title_tfidf'] = list(tfidf_vectorizer_titles.fit_transform(df['title']).toarray())\n",
    "\n",
    "# Sentence Embeddings for abstracts\n",
    "# df['tags_tfidf'] = list(tfidf_vectorizer.fit_transform(df['author_tags']).toarray())\n",
    "\n",
    "# Save extracted features\n",
    "df.to_pickle(\"processed_features.pkl\")\n",
    "# df['author_tags'].head()\n",
    "# df[['title_tfidf', 'tags_tfidf']].head()\n",
    "# Get the feature names (words) from the vectorizer\n",
    "vocab = tfidf_vectorizer_titles.get_feature_names_out()\n",
    "title_tfidf_vector = df['title_tfidf'][1]  # TF-IDF vector\n",
    "nonzero_indices = [i for i, value in enumerate(title_tfidf_vector) if value != 0]\n",
    "\n",
    "# Print words and their corresponding TF-IDF scores\n",
    "for index in nonzero_indices:\n",
    "    print(f\"Word: {vocab[index]}, TF-IDF Score: {title_tfidf_vector[index]}\")"
   ]
  }
 ],
 "metadata": {
  "kernelspec": {
   "display_name": "dsde-cedt",
   "language": "python",
   "name": "python3"
  },
  "language_info": {
   "codemirror_mode": {
    "name": "ipython",
    "version": 3
   },
   "file_extension": ".py",
   "mimetype": "text/x-python",
   "name": "python",
   "nbconvert_exporter": "python",
   "pygments_lexer": "ipython3",
   "version": "3.11.10"
  }
 },
 "nbformat": 4,
 "nbformat_minor": 2
}
