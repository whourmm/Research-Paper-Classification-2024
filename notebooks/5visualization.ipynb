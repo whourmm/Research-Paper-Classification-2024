{
 "cells": [
  {
   "cell_type": "code",
   "execution_count": null,
   "metadata": {
    "vscode": {
     "languageId": "plaintext"
    }
   },
   "outputs": [],
   "source": [
    "import pandas as pd\n",
    "import networkx as nx\n",
    "import matplotlib.pyplot as plt\n",
    "from matplotlib.cm import ScalarMappable\n",
    "import matplotlib.colors as mcolors\n",
    "\n",
    "# Load the dataset\n",
    "df = pd.read_csv('co_funding_sponsors_network_all.csv')  # Replace with the actual path\n",
    "\n",
    "# Initialize a graph\n",
    "G = nx.Graph()\n",
    "\n",
    "# Add edges from the dataset\n",
    "for index, row in df.iterrows():\n",
    "    G.add_edge(row['Sponsor 1'], row['Sponsor 2'])\n",
    "\n",
    "# Use a layout for better visualization with more spacing\n",
    "pos = nx.spring_layout(G, seed=42, k=0.3)  # `k` controls node spacing\n",
    "\n",
    "# Calculate node degrees and scale sizes\n",
    "degree_dict = dict(G.degree())\n",
    "node_sizes = [v * 100 for v in degree_dict.values()]  # Scale node sizes by degree\n",
    "\n",
    "# Color nodes by degree\n",
    "norm = mcolors.Normalize(vmin=min(degree_dict.values()), vmax=max(degree_dict.values()))\n",
    "cmap = plt.cm.plasma  # Choose a colormap\n",
    "node_colors = [cmap(norm(degree_dict[node])) for node in G.nodes]\n",
    "\n",
    "# Draw the network graph\n",
    "plt.figure(figsize=(20, 15))  # Larger figure size for readability\n",
    "node_collection = nx.draw_networkx_nodes(G, pos, node_size=node_sizes, node_color=node_colors, cmap=cmap)\n",
    "nx.draw_networkx_edges(G, pos, edge_color='gray', alpha=0.5, width=0.8)  # Adjust transparency and width of edges\n",
    "\n",
    "# Adjust labels for better readability\n",
    "labels = {node: node for node in G.nodes}  # Show all labels\n",
    "nx.draw_networkx_labels(\n",
    "    G,\n",
    "    pos,\n",
    "    labels=labels,\n",
    "    font_size=5,\n",
    "    font_color='black',\n",
    "    font_weight='bold',\n",
    "    bbox=dict(facecolor='white', edgecolor='black', boxstyle='round,pad=0.3')  # Add background to text\n",
    ")\n",
    "\n",
    "# Add a colorbar linked to the node colors\n",
    "sm = ScalarMappable(cmap=cmap, norm=norm)\n",
    "sm.set_array([])  # Required for matplotlib 3.4+\n",
    "cbar = plt.colorbar(node_collection, shrink=0.8)  # Link to the node collection\n",
    "cbar.set_label(\"Node Degree\", fontsize=2)\n",
    "\n",
    "# Add title and show the graph\n",
    "plt.title(\"Improved Co-Funding Sponsors Network\", fontsize=18)\n",
    "plt.axis(\"off\")\n",
    "plt.show()"
   ]
  }
 ],
 "metadata": {
  "language_info": {
   "name": "python"
  }
 },
 "nbformat": 4,
 "nbformat_minor": 2
}
