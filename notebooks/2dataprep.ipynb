{
 "cells": [
  {
   "cell_type": "code",
   "execution_count": null,
   "metadata": {},
   "outputs": [],
   "source": [
    "# import required libraries\n",
    "from kafka import KafkaConsumer, KafkaProducer\n",
    "import io\n",
    "import pandas as pd\n",
    "import threading\n",
    "import time\n",
    "import os"
   ]
  },
  {
   "cell_type": "code",
   "execution_count": null,
   "metadata": {},
   "outputs": [],
   "source": [
    "kafka_broker = 'localhost:29092'"
   ]
  },
  {
   "cell_type": "code",
   "execution_count": null,
   "metadata": {},
   "outputs": [],
   "source": [
    "consumer = KafkaConsumer(\n",
    "        'data_extracted',\n",
    "        bootstrap_servers=[kafka_broker],\n",
    "        enable_auto_commit=True,\n",
    "        value_deserializer=lambda x: x.decode('utf-8')\n",
    "    )\n",
    "    \n",
    "producer = KafkaProducer(\n",
    "        bootstrap_servers=[kafka_broker],\n",
    "        linger_ms=5000,\n",
    "        acks='all',\n",
    "        max_block_ms=60000\n",
    "    )"
   ]
  },
  {
   "cell_type": "code",
   "execution_count": null,
   "metadata": {},
   "outputs": [],
   "source": [
    "import threading\n",
    "import time\n",
    "import os\n",
    "import pandas as pd\n",
    "\n",
    "\n",
    "def consume_and_send():\n",
    "    output_file_path = 'received_file.csv'\n",
    "    print('Running Consumer')\n",
    "\n",
    "    try:\n",
    "        for message in consumer:\n",
    "            print(f\"Received message: [{message.timestamp}:{message.offset}] {message.value}\")\n",
    "\n",
    "            # Write the received message (CSV content) to a file\n",
    "            with open(output_file_path, 'w') as f:\n",
    "                f.write(message.value)  # Save the content to the file\n",
    "\n",
    "            print(f\"Message saved to {output_file_path}\")\n",
    "\n",
    "            # Read the CSV file\n",
    "            df = pd.read_csv(output_file_path)\n",
    "\n",
    "            # Data cleaning steps\n",
    "            df.drop(['authors', 'article_info', 'citation_info', 'document_info', 'affiliations', 'funding', 'abstract'], axis=1, inplace=True)\n",
    "            df.dropna()  # Drop rows with missing values\n",
    "            df.dropna(axis=1, inplace=True)  # Drop columns with missing values\n",
    "            df.drop_duplicates(inplace=True)\n",
    "\n",
    "            # Modify column names\n",
    "            df.columns = df.columns.str.lower().str.replace(' ', '_')\n",
    "\n",
    "            # Apply lowercase to all string values\n",
    "            df = df.apply(lambda col: col.str.lower() if col.dtype == \"object\" else col)\n",
    "\n",
    "            # Save cleaned data to a new CSV\n",
    "            df.to_csv('cleaned_data.csv', index=False)\n",
    "            with open('cleaned_data.csv', 'r') as csvfile:\n",
    "                csv_content = csvfile.read()  # Read entire file content\n",
    "\n",
    "\n",
    "            print(f\"Sending CSV content to Kafka: {csv_content[:100]}...\")  # Log first 100 characters\n",
    "            producer.send('processed_data', csv_content.encode('utf-8'))\n",
    "            time.sleep(2)\n",
    "            producer.flush()\n",
    "\n",
    "\n",
    "    except Exception as e:\n",
    "        print(f\"Error while consuming: {e}\")\n",
    "\n",
    "try:\n",
    "    consume_and_send()\n",
    "except Exception as e:\n",
    "  print(f\"Error while calling: {e}\")\n",
    "#         retry_count += 1  # Increment retry count for unexpected errors"
   ]
  }
 ],
 "metadata": {
  "kernelspec": {
   "display_name": "dsde-cedt",
   "language": "python",
   "name": "python3"
  },
  "language_info": {
   "codemirror_mode": {
    "name": "ipython",
    "version": 3
   },
   "file_extension": ".py",
   "mimetype": "text/x-python",
   "name": "python",
   "nbconvert_exporter": "python",
   "pygments_lexer": "ipython3",
   "version": "3.11.10"
  },
  "orig_nbformat": 4,
  "vscode": {
   "interpreter": {
    "hash": "cc7b3cfd4489cced733c03bf4c83ac3dc97f9af36e7be94b3e061184a3cfec20"
   }
  }
 },
 "nbformat": 4,
 "nbformat_minor": 2
}
