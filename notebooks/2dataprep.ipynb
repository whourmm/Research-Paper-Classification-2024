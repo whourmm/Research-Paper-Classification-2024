{
 "cells": [
  {
   "cell_type": "code",
   "execution_count": 1,
   "metadata": {},
   "outputs": [],
   "source": [
    "# import required libraries\n",
    "from kafka import KafkaConsumer, KafkaProducer\n",
    "import io\n",
    "import pandas as pd\n",
    "import threading\n",
    "import time\n",
    "import os"
   ]
  },
  {
   "cell_type": "code",
   "execution_count": 2,
   "metadata": {},
   "outputs": [],
   "source": [
    "kafka_broker = 'localhost:29092'"
   ]
  },
  {
   "cell_type": "code",
   "execution_count": null,
   "metadata": {},
   "outputs": [
    {
     "ename": "",
     "evalue": "",
     "output_type": "error",
     "traceback": [
      "\u001b[1;31mThe Kernel crashed while executing code in the current cell or a previous cell. \n",
      "\u001b[1;31mPlease review the code in the cell(s) to identify a possible cause of the failure. \n",
      "\u001b[1;31mClick <a href='https://aka.ms/vscodeJupyterKernelCrash'>here</a> for more info. \n",
      "\u001b[1;31mView Jupyter <a href='command:jupyter.viewOutput'>log</a> for further details."
     ]
    }
   ],
   "source": [
    "consumer = KafkaConsumer(\n",
    "        'data_extracted',\n",
    "        bootstrap_servers=[kafka_broker],\n",
    "        enable_auto_commit=True,\n",
    "        value_deserializer=lambda x: x.decode('utf-8')\n",
    "    )\n",
    "producer = KafkaProducer(\n",
    "        bootstrap_servers=[kafka_broker],\n",
    "        linger_ms=5000,\n",
    "        acks='all',\n",
    "        max_block_ms=60000\n",
    "    )"
   ]
  },
  {
   "cell_type": "code",
   "execution_count": null,
   "metadata": {},
   "outputs": [
    {
     "name": "stdout",
     "output_type": "stream",
     "text": [
      "Running Consumer\n",
      "Received message: [1733422890422:25] title,authors,article_info,abstract,categories/keyword,citation_info,document_info,author_tags,affiliations,funding\n",
      "Incidence and risk factors associated with injuries during static line parachute training in Royal Thai Army(Article)(Open Access),\"['Maneechaeye, W.', 'Deepreecha, K.', 'Jiamjarasrangsi, W.']\",\"Volume 7, Issue 1, 7 June 2020, Article number 27\",\"Background: Incidence and risk factors of parachute injuries has been studied in developed countries, but not in trainees of the airborne forces in the Royal Thailand Army. Methods: A prospective cohort study was conducted among 992 military personnel who attended the basic airborne training program from February to July 2018. Information sheets were used to collect data about (a) personal demographics; (b) environmental conditions surrounding the parachute practice; and (c) parachute-related injuries. The incidence rate of injury was then calculated. Risk factors were examined using multilevel Poisson regression analysis and presented as incidence rate ratio (IRR) and 95% confidence interval (95% CI). Results: A total of 166 parachute-related injuries occurred in 4677 jumps. The incidence rate of injury was 35.50 per 1000 jumps (95%CI: 30.04-41.21). Factors significantly related to parachute injury included: jumping with equipment versus without equipment [adjusted IRR (95% CI): 1.28 (0.88-1.87)], higher wind speed [1.54 (1.27-1.87) per knot], airplane versus helicopter exit [1.75(0.68-4.55)], side versus rear exit [2.13 (1.43-3.23)], night versus day jumping [2.19 (0.81-5.90)], and presence of motion sickness [3.43 (1.93-6.92)]. Conclusions: To prevent military static line parachute injuries, the following factors should be taken into consideration: type of aircraft, aircraft exit, time of the day, equipment, motion sickness and wind speed. Trial registration: The project was certified by the Research Ethics Committee, Faculty of Medicine, Chulalongkorn University (IRB No. 697/60). © 2020 The Author(s).\",Military Medical Research,\"{'ISSN': '20957467', 'Source Type': 'Journal', 'Original Language': 'English'}\",\"{'Document Type': '10.1186/s40779-020-00252-w', 'Publisher': '32507108'}\",\"['Injuries', 'Parachute', 'Paratroopers', 'adult', 'aircraft', 'Article', 'cohort analysis', 'demography', 'health program', 'helicopter', 'human', 'incidence', 'information processing', 'major clinical study', 'medical service', 'military personnel', 'motion sickness', 'occupational accident', 'parachutist', 'priority journal', 'prospective study', 'risk factor', 'training', 'wind speed', 'young adult', 'adolescent', 'aviation', 'education', 'incidence', 'injury', 'male', 'procedures', 'risk factor', 'teaching', 'Thailand', 'Adolescent', 'Adult', 'Aviation', 'Cohort Studies', 'Humans', 'Incidence', 'Male', 'Military Personnel', 'Prospective Studies', 'Risk Factors', 'Teaching', 'Thailand', 'Wounds and Injuries']\",\"['aArmed Forces Research Institute of Medical Sciences, Royal Thai Army Medical Department, Bangkok, 10400, Thailand', 'bHealth Promotion and Preventive Medicine Division, Royal Thai Army Medical Department, Bangkok, 10400, Thailand', 'cDepartment of Social and Preventive Medicine, Faculty of Medicine, Chulalongkorn University, Bangkok, 10330, Thailand']\",[]\n",
      "\n",
      "Message saved to received_file.csv\n",
      "Sending CSV content to Kafka: title,categories/keyword,author_tags\n",
      "incidence and risk factors associated with injuries during stat...\n"
     ]
    }
   ],
   "source": [
    "import threading\n",
    "import time\n",
    "import os\n",
    "import pandas as pd\n",
    "\n",
    "\n",
    "def consume_and_send():\n",
    "    output_file_path = 'received_file.csv'\n",
    "    print('Running Consumer')\n",
    "\n",
    "    try:\n",
    "        for message in consumer:\n",
    "            print(f\"Received message: [{message.timestamp}:{message.offset}] {message.value}\")\n",
    "\n",
    "            # Write the received message (CSV content) to a file\n",
    "            with open(output_file_path, 'w') as f:\n",
    "                f.write(message.value)  # Save the content to the file\n",
    "\n",
    "            print(f\"Message saved to {output_file_path}\")\n",
    "\n",
    "            # Read the CSV file\n",
    "            df = pd.read_csv(output_file_path)\n",
    "\n",
    "            # Data cleaning steps\n",
    "            df.drop(['authors', 'article_info', 'citation_info', 'document_info', 'affiliations', 'funding', 'abstract'], axis=1, inplace=True)\n",
    "            df.dropna()  # Drop rows with missing values\n",
    "            df.dropna(axis=1, inplace=True)  # Drop columns with missing values\n",
    "            df.drop_duplicates(inplace=True)\n",
    "\n",
    "            # Modify column names\n",
    "            df.columns = df.columns.str.lower().str.replace(' ', '_')\n",
    "\n",
    "            # Apply lowercase to all string values\n",
    "            df = df.apply(lambda col: col.str.lower() if col.dtype == \"object\" else col)\n",
    "\n",
    "            # Save cleaned data to a new CSV\n",
    "            df.to_csv('cleaned_data.csv', index=False)\n",
    "            with open('cleaned_data.csv', 'r') as csvfile:\n",
    "                csv_content = csvfile.read()  # Read entire file content\n",
    "\n",
    "\n",
    "            print(f\"Sending CSV content to Kafka: {csv_content[:100]}...\")  # Log first 100 characters\n",
    "            producer.send('processed_data', csv_content.encode('utf-8'))\n",
    "            time.sleep(2)\n",
    "            producer.flush()\n",
    "\n",
    "\n",
    "    except Exception as e:\n",
    "        print(f\"Error while consuming: {e}\")\n",
    "\n",
    "try:\n",
    "    consume_and_send()\n",
    "except Exception as e:\n",
    "  print(f\"Error while calling: {e}\")\n",
    "#         retry_count += 1  # Increment retry count for unexpected errors"
   ]
  }
 ],
 "metadata": {
  "kernelspec": {
   "display_name": "dsde-cedt",
   "language": "python",
   "name": "python3"
  },
  "language_info": {
   "codemirror_mode": {
    "name": "ipython",
    "version": 3
   },
   "file_extension": ".py",
   "mimetype": "text/x-python",
   "name": "python",
   "nbconvert_exporter": "python",
   "pygments_lexer": "ipython3",
   "version": "3.11.10"
  },
  "orig_nbformat": 4,
  "vscode": {
   "interpreter": {
    "hash": "cc7b3cfd4489cced733c03bf4c83ac3dc97f9af36e7be94b3e061184a3cfec20"
   }
  }
 },
 "nbformat": 4,
 "nbformat_minor": 2
}
