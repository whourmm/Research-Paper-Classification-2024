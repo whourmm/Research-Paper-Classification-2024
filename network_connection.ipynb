{
 "cells": [
  {
   "cell_type": "code",
   "execution_count": null,
   "metadata": {
    "vscode": {
     "languageId": "plaintext"
    }
   },
   "outputs": [],
   "source": [
    "import pandas as pd\n",
    "import ast\n",
    "import networkx as nx\n",
    "import itertools  # Import itertools\n",
    "\n",
    "# Load the dataset\n",
    "df = pd.read_csv('2020_cleaned_fullcol.csv')  # Replace with the path to your actual CSV file\n",
    "\n",
    "# Clean and preprocess funding data\n",
    "def parse_funding(funding_data):\n",
    "    try:\n",
    "        return [item.get('funding sponsor') for item in ast.literal_eval(funding_data)] if isinstance(funding_data, str) else []\n",
    "    except (ValueError, SyntaxError):\n",
    "        return []\n",
    "\n",
    "df['funding_sponsors'] = df['funding'].apply(parse_funding)\n",
    "\n",
    "# Initialize a graph to track connections between funding sponsors\n",
    "G = nx.Graph()\n",
    "\n",
    "# Loop through the first 5 rows to find connections between funding sponsors\n",
    "for index, row in df.head(100).iterrows():  # Only the first 5 rows\n",
    "    funding_sponsors = set(row['funding_sponsors'])\n",
    "    \n",
    "    # Add an edge between every pair of funding sponsors that co-funded the research\n",
    "    for sponsor1, sponsor2 in itertools.combinations(funding_sponsors, 2):\n",
    "        if sponsor1 != sponsor2:\n",
    "            G.add_edge(sponsor1, sponsor2)\n",
    "\n",
    "            \n",
    "\n",
    "# Draw the graph (optional)\n",
    "import matplotlib.pyplot as plt\n",
    "plt.figure(figsize=(10, 8))\n",
    "nx.draw_networkx(G, with_labels=True, node_size=100, node_color='lightblue', font_size=0.1, font_weight='bold')\n",
    "plt.title(\"Co-Funding Network between Funding Sponsors (First 5 Rows)\")\n",
    "plt.show()\n",
    "\n",
    "# Save the network graph to a CSV\n",
    "edges = pd.DataFrame(G.edges(), columns=['Sponsor 1', 'Sponsor 2'])\n",
    "edges.to_csv('co_funding_sponsors_network_test.csv', index=False)\n",
    "\n",
    "print(\"Co-funding network graph for the first 5 rows created successfully.\")\n"
   ]
  }
 ],
 "metadata": {
  "language_info": {
   "name": "python"
  }
 },
 "nbformat": 4,
 "nbformat_minor": 2
}
